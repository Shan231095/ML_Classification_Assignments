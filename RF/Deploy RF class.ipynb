{
 "cells": [
  {
   "cell_type": "code",
   "execution_count": 4,
   "id": "3f81f8e0-3d3f-4cb6-be0a-216d4ce50d5d",
   "metadata": {},
   "outputs": [],
   "source": [
    "import pickle"
   ]
  },
  {
   "cell_type": "code",
   "execution_count": 5,
   "id": "fd5a1baf-529e-4d11-91d0-d27c579587f5",
   "metadata": {},
   "outputs": [],
   "source": [
    "loaded_model=pickle.load(open(\"model_RF_classification.sav\",'rb'))      \n",
    "result=loaded_model.predict([[10,70,2,0,200,50,2,130,4,8,0,0,0,0,0,0,0,0,0,0,0,0,0,1,1,0,1]])"
   ]
  },
  {
   "cell_type": "code",
   "execution_count": 8,
   "id": "4a00342a-b1d0-4d53-95dd-b6f2161c1444",
   "metadata": {},
   "outputs": [
    {
     "data": {
      "text/plain": [
       "array([1])"
      ]
     },
     "execution_count": 8,
     "metadata": {},
     "output_type": "execute_result"
    }
   ],
   "source": [
    "result"
   ]
  },
  {
   "cell_type": "code",
   "execution_count": 9,
   "id": "5d0dd1a8-593f-403b-86af-e51873869069",
   "metadata": {},
   "outputs": [
    {
     "name": "stdout",
     "output_type": "stream",
     "text": [
      "You may have Chronic Disease\n"
     ]
    }
   ],
   "source": [
    "if result[0] == 1:\n",
    "    print(\"You may have Chronic Disease\") \n",
    "else:\n",
    "    print(\"You don't have Chronic Disease\")"
   ]
  },
  {
   "cell_type": "code",
   "execution_count": null,
   "id": "2a82d064-5a6d-43e3-9332-1438afb0381d",
   "metadata": {},
   "outputs": [],
   "source": []
  }
 ],
 "metadata": {
  "kernelspec": {
   "display_name": "Python 3 (ipykernel)",
   "language": "python",
   "name": "python3"
  },
  "language_info": {
   "codemirror_mode": {
    "name": "ipython",
    "version": 3
   },
   "file_extension": ".py",
   "mimetype": "text/x-python",
   "name": "python",
   "nbconvert_exporter": "python",
   "pygments_lexer": "ipython3",
   "version": "3.12.7"
  }
 },
 "nbformat": 4,
 "nbformat_minor": 5
}
