{
 "cells": [
  {
   "cell_type": "code",
   "execution_count": 1,
   "id": "a29e9e9d-4612-4bd9-aad1-c39f87227a69",
   "metadata": {},
   "outputs": [],
   "source": [
    "import pickle"
   ]
  },
  {
   "cell_type": "code",
   "execution_count": 2,
   "id": "0d9574c5-c46f-4080-a087-f86b3de99d11",
   "metadata": {},
   "outputs": [],
   "source": [
    "loaded_model=pickle.load(open(\"model_Log_reg_classification.sav\",'rb'))      \n",
    "result=loaded_model.predict([[10,70,2,0,200,50,2,130,4,8,0,0,0,0,0,0,0,0,0,0,0,0,0,1,1,0,1]])"
   ]
  },
  {
   "cell_type": "code",
   "execution_count": 4,
   "id": "708d9876-8d88-4a8d-bf9a-bb82985708fb",
   "metadata": {},
   "outputs": [
    {
     "data": {
      "text/plain": [
       "array([1])"
      ]
     },
     "execution_count": 4,
     "metadata": {},
     "output_type": "execute_result"
    }
   ],
   "source": [
    "result"
   ]
  },
  {
   "cell_type": "code",
   "execution_count": 5,
   "id": "83bb32b0-6df1-44dd-81a6-54ccf8a56f7f",
   "metadata": {},
   "outputs": [
    {
     "name": "stdout",
     "output_type": "stream",
     "text": [
      "You may have Chronic Disease\n"
     ]
    }
   ],
   "source": [
    "if result[0] == 1:\n",
    "    print(\"You may have Chronic Disease\")\n",
    "else:\n",
    "    print(\"You don't have Chronic Disease\")"
   ]
  },
  {
   "cell_type": "code",
   "execution_count": null,
   "id": "d985ca9c-c85b-43d0-9ff5-183a4e3c1372",
   "metadata": {},
   "outputs": [],
   "source": []
  }
 ],
 "metadata": {
  "kernelspec": {
   "display_name": "Python 3 (ipykernel)",
   "language": "python",
   "name": "python3"
  },
  "language_info": {
   "codemirror_mode": {
    "name": "ipython",
    "version": 3
   },
   "file_extension": ".py",
   "mimetype": "text/x-python",
   "name": "python",
   "nbconvert_exporter": "python",
   "pygments_lexer": "ipython3",
   "version": "3.12.7"
  }
 },
 "nbformat": 4,
 "nbformat_minor": 5
}
